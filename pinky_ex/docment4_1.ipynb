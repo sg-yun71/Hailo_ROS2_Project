{
 "cells": [
  {
   "cell_type": "code",
   "execution_count": 1,
   "id": "2a7c91ad",
   "metadata": {},
   "outputs": [],
   "source": [
    "import rclpy\n",
    "from rclpy.node import Node\n",
    "\n",
    "rclpy.init()\n",
    "goal_node = rclpy.create_node('goal_node')"
   ]
  },
  {
   "cell_type": "code",
   "execution_count": 2,
   "id": "5661731a",
   "metadata": {},
   "outputs": [],
   "source": [
    "from geometry_msgs.msg import PoseStamped\n",
    "\n",
    "goal_pose = PoseStamped()\n",
    "goal_pose.header.frame_id = 'map'\n",
    "goal_pose.pose.position.x = 0.5\n",
    "goal_pose.pose.position.y = 0.1\n",
    "goal_pose.pose.orientation.w = 0.707\n",
    "goal_pose.pose.orientation.z = 0.707"
   ]
  },
  {
   "cell_type": "code",
   "execution_count": 3,
   "id": "650bda1e",
   "metadata": {},
   "outputs": [],
   "source": [
    "goal_publisher = goal_node.create_publisher(PoseStamped, '/goal_pose', 10)"
   ]
  },
  {
   "cell_type": "code",
   "execution_count": 4,
   "id": "87b6389c",
   "metadata": {},
   "outputs": [],
   "source": [
    "goal_publisher.publish(goal_pose)"
   ]
  },
  {
   "cell_type": "code",
   "execution_count": 5,
   "id": "7c03e3b4",
   "metadata": {},
   "outputs": [],
   "source": [
    "def callback(msg):\n",
    "    print(f\"x: {msg.pose.position.x}\")\n",
    "    print(f\"y: {msg.pose.position.y}\")"
   ]
  },
  {
   "cell_type": "code",
   "execution_count": 6,
   "id": "3920b8b4",
   "metadata": {},
   "outputs": [],
   "source": [
    "pose_sub = goal_node.create_subscription(PoseStamped, '/tracked_pose', callback, 10)"
   ]
  },
  {
   "cell_type": "code",
   "execution_count": 7,
   "id": "d267d5fb",
   "metadata": {},
   "outputs": [
    {
     "name": "stdout",
     "output_type": "stream",
     "text": [
      "x: 0.3032788784352249\n",
      "y: 0.05419668554955831\n"
     ]
    }
   ],
   "source": [
    "rclpy.spin_once(goal_node)"
   ]
  },
  {
   "cell_type": "code",
   "execution_count": 8,
   "id": "50ab4525",
   "metadata": {},
   "outputs": [],
   "source": [
    "rclpy.shutdown()"
   ]
  },
  {
   "cell_type": "code",
   "execution_count": null,
   "id": "63ebf366",
   "metadata": {},
   "outputs": [],
   "source": []
  }
 ],
 "metadata": {
  "kernelspec": {
   "display_name": "Python 3 (ipykernel)",
   "language": "python",
   "name": "python3"
  },
  "language_info": {
   "codemirror_mode": {
    "name": "ipython",
    "version": 3
   },
   "file_extension": ".py",
   "mimetype": "text/x-python",
   "name": "python",
   "nbconvert_exporter": "python",
   "pygments_lexer": "ipython3",
   "version": "3.12.3"
  }
 },
 "nbformat": 4,
 "nbformat_minor": 5
}
