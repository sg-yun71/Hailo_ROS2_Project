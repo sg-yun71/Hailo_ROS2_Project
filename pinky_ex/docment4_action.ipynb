{
 "cells": [
  {
   "cell_type": "code",
   "execution_count": 1,
   "id": "b1f74228",
   "metadata": {},
   "outputs": [],
   "source": [
    "import rclpy\n",
    "from rclpy.node import Node\n",
    "\n",
    "from nav2_msgs.action import NavigateToPose\n",
    "from rclpy.action import ActionClient\n",
    "\n",
    "rclpy.init()\n",
    "action_node = rclpy.create_node('navigate_to_pose_client')\n",
    "action_client = ActionClient(action_node, NavigateToPose, '/navigate_to_pose')"
   ]
  },
  {
   "cell_type": "code",
   "execution_count": 2,
   "id": "de98aeb8",
   "metadata": {},
   "outputs": [],
   "source": [
    "def feedback_callback(feedback_msg):\n",
    "    remain_dist = feedback_msg.feedback.distance_remaining\n",
    "    print(round(remain_dist, 2))"
   ]
  },
  {
   "cell_type": "code",
   "execution_count": 3,
   "id": "83212d96",
   "metadata": {},
   "outputs": [],
   "source": [
    "def get_result_callback(future):\n",
    "    result = future.result()\n",
    "    print('Result: {0}'.format(result))\n",
    "    rclpy.shutdown()"
   ]
  },
  {
   "cell_type": "code",
   "execution_count": 4,
   "id": "c6ee5cc4",
   "metadata": {},
   "outputs": [],
   "source": [
    "def goal_response_callback(future):\n",
    "    goal_handle = future.result()\n",
    "    if not goal_handle.accepted:\n",
    "        print('Goal_rejected')\n",
    "        return\n",
    "    \n",
    "    print('Goal accepted')\n",
    "    \n",
    "    get_result_future = goal_handle.get_result_async()\n",
    "    get_result_future.add_done_callback(get_result_callback)"
   ]
  },
  {
   "cell_type": "code",
   "execution_count": 5,
   "id": "9b6182c2",
   "metadata": {},
   "outputs": [
    {
     "name": "stdout",
     "output_type": "stream",
     "text": [
      "Action server available!\n"
     ]
    }
   ],
   "source": [
    "if not action_client.wait_for_server(timeout_sec=10.0):\n",
    "    print('Action server not available!')\n",
    "else:\n",
    "    print(\"Action server available!\")"
   ]
  },
  {
   "cell_type": "code",
   "execution_count": 6,
   "id": "746d468c",
   "metadata": {},
   "outputs": [],
   "source": [
    "from geometry_msgs.msg import PoseStamped\n",
    "\n",
    "goal_pose = PoseStamped()\n",
    "goal_pose.header.frame_id = 'map'\n",
    "goal_pose.pose.position.x = 0.5\n",
    "goal_pose.pose.position.y = 0.1\n",
    "goal_pose.pose.orientation.w = 0.707\n",
    "goal_pose.pose.orientation.z = 0.707\n",
    "\n",
    "goal_msg = NavigateToPose.Goal()\n",
    "goal_msg.pose = goal_pose"
   ]
  },
  {
   "cell_type": "code",
   "execution_count": 7,
   "id": "912df788",
   "metadata": {},
   "outputs": [
    {
     "name": "stdout",
     "output_type": "stream",
     "text": [
      "Goal accepted\n",
      "0.0\n",
      "0.0\n",
      "0.32\n",
      "0.32\n",
      "0.32\n",
      "0.32\n",
      "0.32\n",
      "0.32\n",
      "0.32\n",
      "0.32\n",
      "0.32\n",
      "0.32\n",
      "0.32\n",
      "0.32\n",
      "0.32\n",
      "0.32\n",
      "0.32\n",
      "0.32\n",
      "0.32\n",
      "0.32\n",
      "0.32\n",
      "0.32\n",
      "0.32\n",
      "0.32\n",
      "0.32\n",
      "0.32\n",
      "0.32\n",
      "0.32\n",
      "0.32\n",
      "0.32\n",
      "0.32\n",
      "0.27\n",
      "0.27\n",
      "0.27\n",
      "0.27\n",
      "0.27\n",
      "0.27\n",
      "0.27\n",
      "0.27\n",
      "0.27\n",
      "0.32\n",
      "0.32\n",
      "0.32\n",
      "0.32\n",
      "0.32\n",
      "0.32\n",
      "0.32\n",
      "0.32\n",
      "0.32\n",
      "0.32\n",
      "0.32\n",
      "0.32\n",
      "0.32\n",
      "0.32\n",
      "0.27\n",
      "0.27\n",
      "0.27\n",
      "0.27\n",
      "0.27\n",
      "0.27\n",
      "0.27\n",
      "0.27\n",
      "0.27\n",
      "0.24\n",
      "0.24\n",
      "0.24\n",
      "0.22\n",
      "0.22\n",
      "0.19\n",
      "0.19\n",
      "0.24\n",
      "0.19\n",
      "0.19\n",
      "0.19\n",
      "0.19\n",
      "0.19\n",
      "0.19\n",
      "0.17\n",
      "0.17\n",
      "0.17\n",
      "0.17\n",
      "0.17\n",
      "0.14\n",
      "0.14\n",
      "0.14\n",
      "0.12\n",
      "0.12\n",
      "0.12\n",
      "0.12\n",
      "0.12\n",
      "0.09\n",
      "0.09\n",
      "0.09\n",
      "0.09\n",
      "0.09\n",
      "0.09\n",
      "0.09\n",
      "0.09\n",
      "0.09\n",
      "0.09\n",
      "0.09\n",
      "0.09\n",
      "0.09\n",
      "0.09\n",
      "0.09\n",
      "0.09\n",
      "0.09\n",
      "0.09\n",
      "Result: nav2_msgs.action.NavigateToPose_GetResult_Response(status=4, result=nav2_msgs.action.NavigateToPose_Result(error_code=0, error_msg=''))\n"
     ]
    }
   ],
   "source": [
    "send_goal_future = action_client.send_goal_async(goal_msg, feedback_callback=feedback_callback)\n",
    "send_goal_future.add_done_callback(goal_response_callback)\n",
    "\n",
    "rclpy.spin(action_node)"
   ]
  },
  {
   "cell_type": "code",
   "execution_count": null,
   "id": "0fd93afa",
   "metadata": {},
   "outputs": [],
   "source": []
  }
 ],
 "metadata": {
  "kernelspec": {
   "display_name": "Python 3 (ipykernel)",
   "language": "python",
   "name": "python3"
  },
  "language_info": {
   "codemirror_mode": {
    "name": "ipython",
    "version": 3
   },
   "file_extension": ".py",
   "mimetype": "text/x-python",
   "name": "python",
   "nbconvert_exporter": "python",
   "pygments_lexer": "ipython3",
   "version": "3.12.3"
  }
 },
 "nbformat": 4,
 "nbformat_minor": 5
}
